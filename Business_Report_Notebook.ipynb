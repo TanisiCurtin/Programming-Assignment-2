{
  "nbformat": 4,
  "nbformat_minor": 0,
  "metadata": {
    "colab": {
      "provenance": [],
      "authorship_tag": "ABX9TyPSdDJiNHwvLpN42uOPlSZB",
      "include_colab_link": true
    },
    "kernelspec": {
      "name": "python3",
      "display_name": "Python 3"
    },
    "language_info": {
      "name": "python"
    }
  },
  "cells": [
    {
      "cell_type": "markdown",
      "metadata": {
        "id": "view-in-github",
        "colab_type": "text"
      },
      "source": [
        "<a href=\"https://colab.research.google.com/github/TanisiCurtin/Programming-Assignment-2/blob/main/Business_Report_Notebook.ipynb\" target=\"_parent\"><img src=\"https://colab.research.google.com/assets/colab-badge.svg\" alt=\"Open In Colab\"/></a>"
      ]
    },
    {
      "cell_type": "markdown",
      "source": [
        "Programming Assignment 2\n",
        "Australian Energy Dataset Analysis\n",
        "Business Reports"
      ],
      "metadata": {
        "id": "b6siF1U-BqII"
      }
    },
    {
      "cell_type": "markdown",
      "source": [
        "Lets Setup an Environment:\n",
        "A New colab notebook alog with new repository at my GitHub Account is created."
      ],
      "metadata": {
        "id": "bs2BVFZCBsXj"
      }
    },
    {
      "cell_type": "markdown",
      "source": [
        "Lets connect it to Google Drive"
      ],
      "metadata": {
        "id": "DIfS3poEF1y6"
      }
    },
    {
      "cell_type": "code",
      "source": [
        "from google.colab import drive\n",
        "drive.mount('/content/drive')"
      ],
      "metadata": {
        "colab": {
          "base_uri": "https://localhost:8080/"
        },
        "id": "4WJP1RlHGZM3",
        "outputId": "fe3f9c3e-60cb-4c64-bf73-24fc1fe60a1f"
      },
      "execution_count": 4,
      "outputs": [
        {
          "output_type": "stream",
          "name": "stdout",
          "text": [
            "Mounted at /content/drive\n"
          ]
        }
      ]
    },
    {
      "cell_type": "markdown",
      "source": [
        "Following libraries are imported:"
      ],
      "metadata": {
        "id": "GseiNUW6F2l4"
      }
    },
    {
      "cell_type": "code",
      "execution_count": 1,
      "metadata": {
        "id": "1S6TAFB-_JuX"
      },
      "outputs": [],
      "source": [
        "import sqlite3\n",
        "import pandas as pd\n",
        "import numpy as np\n",
        "import matplotlib.pyplot as plt"
      ]
    },
    {
      "cell_type": "markdown",
      "source": [
        "Connecting to the SQLite Database"
      ],
      "metadata": {
        "id": "hivcNfBpFvHQ"
      }
    },
    {
      "cell_type": "code",
      "source": [
        "db_path='/content/drive/My Drive/AUS_energy_sqlite3.db'\n",
        "conn = sqlite3.connect(db_path)\n",
        "#Verifying connection and checking the database schema\n",
        "cursor=conn.cursor()\n",
        "cursor.execute(\"SELECT name FROM sqlite_master WHERE type='table';\")\n",
        "print(cursor.fetchall())"
      ],
      "metadata": {
        "colab": {
          "base_uri": "https://localhost:8080/"
        },
        "id": "eQbzHR-GHPJY",
        "outputId": "23bb2622-5399-43f5-98b0-90592a9b28f3"
      },
      "execution_count": 6,
      "outputs": [
        {
          "output_type": "stream",
          "name": "stdout",
          "text": [
            "[('AUS_energy',)]\n"
          ]
        }
      ]
    }
  ]
}