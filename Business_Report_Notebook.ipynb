{
  "nbformat": 4,
  "nbformat_minor": 0,
  "metadata": {
    "colab": {
      "provenance": [],
      "authorship_tag": "ABX9TyPBxqugdjZb4sPRVVKVf6fk",
      "include_colab_link": true
    },
    "kernelspec": {
      "name": "python3",
      "display_name": "Python 3"
    },
    "language_info": {
      "name": "python"
    }
  },
  "cells": [
    {
      "cell_type": "markdown",
      "metadata": {
        "id": "view-in-github",
        "colab_type": "text"
      },
      "source": [
        "<a href=\"https://colab.research.google.com/github/TanisiCurtin/Programming-Assignment-2/blob/main/Business_Report_Notebook.ipynb\" target=\"_parent\"><img src=\"https://colab.research.google.com/assets/colab-badge.svg\" alt=\"Open In Colab\"/></a>"
      ]
    },
    {
      "cell_type": "markdown",
      "source": [
        "Programming Assignment 2\n",
        "Australian Energy Dataset Analysis\n",
        "Business Reports"
      ],
      "metadata": {
        "id": "b6siF1U-BqII"
      }
    },
    {
      "cell_type": "markdown",
      "source": [
        "Lets Setup an Environment:\n",
        "A New colab notebook alog with new repository at my GitHub Account is created."
      ],
      "metadata": {
        "id": "bs2BVFZCBsXj"
      }
    },
    {
      "cell_type": "markdown",
      "source": [
        "Lets connect it to Google Drive"
      ],
      "metadata": {
        "id": "DIfS3poEF1y6"
      }
    },
    {
      "cell_type": "code",
      "source": [
        "from google.colab import drive\n",
        "drive.mount('/content/drive')"
      ],
      "metadata": {
        "colab": {
          "base_uri": "https://localhost:8080/"
        },
        "id": "4WJP1RlHGZM3",
        "outputId": "b289024f-d312-4fc6-cbc0-8e22231cfec9"
      },
      "execution_count": 3,
      "outputs": [
        {
          "output_type": "stream",
          "name": "stdout",
          "text": [
            "Mounted at /content/drive\n"
          ]
        }
      ]
    },
    {
      "cell_type": "markdown",
      "source": [
        "Following libraries are imported:"
      ],
      "metadata": {
        "id": "GseiNUW6F2l4"
      }
    },
    {
      "cell_type": "code",
      "execution_count": 4,
      "metadata": {
        "id": "1S6TAFB-_JuX"
      },
      "outputs": [],
      "source": [
        "import sqlite3\n",
        "import pandas as pd\n",
        "import numpy as np\n",
        "import matplotlib.pyplot as plt"
      ]
    },
    {
      "cell_type": "markdown",
      "source": [
        "Connecting to the SQLite Database"
      ],
      "metadata": {
        "id": "hivcNfBpFvHQ"
      }
    },
    {
      "cell_type": "code",
      "source": [
        "db_path='/content/drive/My Drive/AUS_energy_sqlite3.db'\n",
        "conn = sqlite3.connect(db_path)\n",
        "#Verifying connection and checking the database schema\n",
        "cursor=conn.cursor()\n",
        "cursor.execute(\"SELECT name FROM sqlite_master WHERE type='table';\")\n",
        "print(cursor.fetchall())"
      ],
      "metadata": {
        "colab": {
          "base_uri": "https://localhost:8080/"
        },
        "id": "eQbzHR-GHPJY",
        "outputId": "4e1fc4ec-e430-474c-bc14-083c69598ffe"
      },
      "execution_count": 8,
      "outputs": [
        {
          "output_type": "stream",
          "name": "stdout",
          "text": [
            "[('AUS_energy',)]\n"
          ]
        }
      ]
    },
    {
      "cell_type": "markdown",
      "source": [
        "Data Extraction and Manipulation\n",
        "Example SQL query to load data into a DataFrame"
      ],
      "metadata": {
        "id": "oz3I-wjvK3e_"
      }
    },
    {
      "cell_type": "code",
      "source": [
        "##lets display the Table AUS_energy\n",
        "table_name='AUS_energy'\n",
        "query= f\"SELECT * FROM {table_name}\"\n",
        "with pd.option_context('display.max_rows',None): ##to display all rows\n",
        "    df=pd.read_sql_query(query,conn)\n",
        "print(df)"
      ],
      "metadata": {
        "id": "25GNvAY_Urs6"
      },
      "execution_count": null,
      "outputs": []
    }
  ]
}