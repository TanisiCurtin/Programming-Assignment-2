{
  "nbformat": 4,
  "nbformat_minor": 0,
  "metadata": {
    "colab": {
      "provenance": [],
      "authorship_tag": "ABX9TyOUU4HFNcjLT28GUFHIDNQ0",
      "include_colab_link": true
    },
    "kernelspec": {
      "name": "python3",
      "display_name": "Python 3"
    },
    "language_info": {
      "name": "python"
    }
  },
  "cells": [
    {
      "cell_type": "markdown",
      "metadata": {
        "id": "view-in-github",
        "colab_type": "text"
      },
      "source": [
        "<a href=\"https://colab.research.google.com/github/TanisiCurtin/Programming-Assignment-2/blob/main/Development_Notebook.ipynb\" target=\"_parent\"><img src=\"https://colab.research.google.com/assets/colab-badge.svg\" alt=\"Open In Colab\"/></a>"
      ]
    },
    {
      "cell_type": "markdown",
      "source": [
        "Australian Energy Dataset Analysis: Development Notebook\n"
      ],
      "metadata": {
        "id": "gHz4MIf4RjGD"
      }
    },
    {
      "cell_type": "markdown",
      "source": [
        "Setup Environment\n",
        "1. Mount Google Drive\n",
        "2. Import necessary libraries\n",
        "3. Connect to SQLite database\n",
        "\n",
        " Data Exploration\n",
        "1. List all tables in the database\n",
        "2. Load a specific table into a DataFrame\n",
        "\n",
        " Data Analysis and Visualization\n",
        "1. Compute and visualize total energy consumption for each state\n",
        "2. Compute and visualize total energy consumption by fuel type\n",
        "3. Analyze and plot total energy consumption by fuel type for each year\n",
        "4. Analyze and visualize total energy consumption for each state each year\n",
        "5. Analyze and visualize total energy consumption for each state broken down by fuel type\n",
        "6. Analyze per capita energy consumption for each state for each year\n",
        "7. Determine and visualize energy productivity for each state annually\n",
        "8. Analyze energy intensity for each state annually\n",
        "9. Compare growth rate of GSP and consumption of renewable energy for each state\n",
        "10. Examine and plot efficiency of energy use relative to population growth and economic development\n"
      ],
      "metadata": {
        "id": "ejJWI62HRtQK"
      }
    },
    {
      "cell_type": "code",
      "execution_count": 2,
      "metadata": {
        "colab": {
          "base_uri": "https://localhost:8080/"
        },
        "id": "UoH0kvSRIkjl",
        "outputId": "acacf2ce-8afb-4005-cc8d-a574b0df05b7"
      },
      "outputs": [
        {
          "output_type": "stream",
          "name": "stdout",
          "text": [
            "Drive already mounted at /content/drive; to attempt to forcibly remount, call drive.mount(\"/content/drive\", force_remount=True).\n"
          ]
        }
      ],
      "source": [
        "from google.colab import drive\n",
        "drive.mount('/content/drive')"
      ]
    },
    {
      "cell_type": "code",
      "source": [
        "import sqlite3\n",
        "import pandas as pd\n",
        "import numpy as np\n",
        "import matplotlib.pyplot as plt\n",
        "\n",
        "db_path = '/content/drive/My Drive/path_to_your_database.db'\n",
        "conn = sqlite3.connect(db_path)"
      ],
      "metadata": {
        "id": "TpPpiAtUSVXN"
      },
      "execution_count": 3,
      "outputs": []
    },
    {
      "cell_type": "code",
      "source": [
        "cursor = conn.cursor() #creating a cursor object using connection(conn)"
      ],
      "metadata": {
        "id": "IcAm8k7eSXaa"
      },
      "execution_count": 5,
      "outputs": []
    },
    {
      "cell_type": "code",
      "source": [
        "##Lets find out the tables\n",
        "cursor.execute(\"SELECT name FROM sqlite_master WHERE type='table';\")\n",
        "tables = cursor.fetchall()\n",
        "print(\"Tables in the database:\")\n",
        "for table in tables:\n",
        "    print(table[0])"
      ],
      "metadata": {
        "colab": {
          "base_uri": "https://localhost:8080/"
        },
        "id": "1_uoSEBfSdbG",
        "outputId": "1b79bdbf-162c-486c-a79b-e0aa95614a6c"
      },
      "execution_count": 7,
      "outputs": [
        {
          "output_type": "stream",
          "name": "stdout",
          "text": [
            "Tables in the database:\n"
          ]
        }
      ]
    }
  ]
}